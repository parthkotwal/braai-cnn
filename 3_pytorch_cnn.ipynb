{
  "nbformat": 4,
  "nbformat_minor": 0,
  "metadata": {
    "colab": {
      "provenance": [],
      "gpuType": "L4",
      "authorship_tag": "ABX9TyM3KaCeQ6YlkSgoTOJKKvhU",
      "include_colab_link": true
    },
    "kernelspec": {
      "name": "python3",
      "display_name": "Python 3"
    },
    "language_info": {
      "name": "python"
    },
    "accelerator": "GPU"
  },
  "cells": [
    {
      "cell_type": "markdown",
      "metadata": {
        "id": "view-in-github",
        "colab_type": "text"
      },
      "source": [
        "<a href=\"https://colab.research.google.com/github/parthkotwal/braai-cnn/blob/main/3_pytorch_cnn.ipynb\" target=\"_parent\"><img src=\"https://colab.research.google.com/assets/colab-badge.svg\" alt=\"Open In Colab\"/></a>"
      ]
    },
    {
      "cell_type": "code",
      "execution_count": 1,
      "metadata": {
        "colab": {
          "base_uri": "https://localhost:8080/"
        },
        "id": "2urjJf8mURiH",
        "outputId": "58f41ecc-a36c-4656-97bb-00edf0884ddb"
      },
      "outputs": [
        {
          "output_type": "stream",
          "name": "stdout",
          "text": [
            "Mounted at /content/drive\n"
          ]
        }
      ],
      "source": [
        "from google.colab import drive\n",
        "drive.mount('/content/drive')"
      ]
    },
    {
      "cell_type": "code",
      "source": [
        "import torch\n",
        "from torch.utils.data import Dataset, DataLoader\n",
        "import numpy as np\n",
        "\n",
        "class ZTFDataset(Dataset):\n",
        "  def __init__(self, npz_path):\n",
        "    data = np.load(npz_path)\n",
        "    self.images = data['X_train']\n",
        "    self.labels = data['y_train']\n",
        "\n",
        "  def __len__(self):\n",
        "    return len(self.labels)\n",
        "\n",
        "  def __getitem__(self, idx):\n",
        "    image = self.images[idx].astype(np.float32)\n",
        "    label = int(self.labels[idx])\n",
        "    return image, label"
      ],
      "metadata": {
        "id": "MPYEmha5V2RU"
      },
      "execution_count": 2,
      "outputs": []
    },
    {
      "cell_type": "code",
      "source": [
        "import torch.nn as nn\n",
        "import torch.nn.functional as F\n",
        "\n",
        "class PyTorchCNN(nn.Module):\n",
        "  def __init__(self):\n",
        "    super(PyTorchCNN, self).__init__()\n",
        "\n",
        "    # Block 1:\n",
        "    self.conv1_1 = nn.Conv2d(in_channels=3, out_channels=16, kernel_size=3, padding=1)\n",
        "    self.conv1_2 = nn.Conv2d(in_channels=16, out_channels=16, kernel_size=3, padding=1)\n",
        "    self.pool1 = nn.MaxPool2d(stride=2, kernel_size=2)\n",
        "    self.dropout1 = nn.Dropout(0.25)\n",
        "\n",
        "    # Block 2:\n",
        "    self.conv2_1 = nn.Conv2d(in_channels=16, out_channels=32, kernel_size=3, padding=1)\n",
        "    self.conv2_2 = nn.Conv2d(in_channels=32, out_channels=32, kernel_size=3, padding=1)\n",
        "    self.pool2 = nn.MaxPool2d(stride=4, kernel_size=2)\n",
        "    self.dropout2 = nn.Dropout(0.25)\n",
        "\n",
        "    # Fully connected layers\n",
        "    self.fc1 = nn.Linear(in_features=2048, out_features=256)\n",
        "    self.dropout3 = nn.Dropout(0.5)\n",
        "    self.fc2 = nn.Linear(in_features=256, out_features=1)\n",
        "\n",
        "  def forward(self, x):\n",
        "    # Block 1:\n",
        "    x = F.relu(self.conv1_1(x))\n",
        "    x = F.relu(self.conv1_2(x))\n",
        "    x = self.pool1(x)\n",
        "    x = self.dropout1(x)\n",
        "\n",
        "    # Block 2:\n",
        "    x = F.relu(self.conv2_1(x))\n",
        "    x = F.relu(self.conv2_2(x))\n",
        "    x = self.pool2(x)\n",
        "    x = self.dropout2(x)\n",
        "\n",
        "    # full connected\n",
        "    x = x.view(x.size(0), -1)\n",
        "    x = F.relu(self.fc1(x))\n",
        "    x = self.dropout3(x)\n",
        "    x = self.fc2(x)\n",
        "    x = F.sigmoid(x)\n",
        "\n",
        "    return x"
      ],
      "metadata": {
        "id": "9D2yUjIUWpmh"
      },
      "execution_count": 9,
      "outputs": []
    },
    {
      "cell_type": "code",
      "source": [
        "device = torch.device(\"cuda\" if torch.cuda.is_available() else \"cpu\")\n",
        "print(device)"
      ],
      "metadata": {
        "colab": {
          "base_uri": "https://localhost:8080/"
        },
        "id": "6Fp8H3dfhFSk",
        "outputId": "ad359424-db04-4c9d-9b51-f938c9e6bea8"
      },
      "execution_count": 4,
      "outputs": [
        {
          "output_type": "stream",
          "name": "stdout",
          "text": [
            "cuda\n"
          ]
        }
      ]
    },
    {
      "cell_type": "code",
      "source": [
        "import torch.optim as optim\n",
        "\n",
        "model = PyTorchCNN().to(device)\n",
        "loss_fn = nn.BCELoss()\n",
        "optimizer = optim.Adam(model.parameters(), lr=0.001)"
      ],
      "metadata": {
        "id": "UyviJ2QjgHXl"
      },
      "execution_count": 10,
      "outputs": []
    },
    {
      "cell_type": "code",
      "source": [
        "def train(model, dataloader, epochs=20):\n",
        "  model.train()\n",
        "\n",
        "  for epoch in range(epochs):\n",
        "    total_loss = 0.0\n",
        "    correct, total = 0, 0\n",
        "\n",
        "    for inputs, labels in dataloader:\n",
        "      inputs = inputs.to(device).float()\n",
        "      labels = labels.to(device).unsqueeze(1).float()\n",
        "\n",
        "      optimizer.zero_grad()\n",
        "      outputs = model(inputs)\n",
        "\n",
        "      labels = labels.view(-1, 1)  # Ensures shape is (batch_size, 1)\n",
        "      loss = loss_fn(outputs, labels)\n",
        "      loss.backward()\n",
        "      optimizer.step()\n",
        "\n",
        "      total_loss += loss.item() * inputs.size(0)\n",
        "      preds = (outputs > 0.5).float()\n",
        "      correct += (preds == labels).sum().item()\n",
        "      total += labels.size(0)\n",
        "\n",
        "    avg_loss = total_loss / total\n",
        "    accuracy = correct / total\n",
        "\n",
        "    print(f\"Epoch {epoch+1}/{epochs}, Loss: {avg_loss:.4f}, Accuracy: {accuracy:.4f}\")"
      ],
      "metadata": {
        "id": "uV8cx-w9hJdE"
      },
      "execution_count": 11,
      "outputs": []
    },
    {
      "cell_type": "code",
      "source": [
        "train_dataset = ZTFDataset(\"/content/drive/MyDrive/braai_cnn/ztf_dataset_split.npz\")\n",
        "train_loader = DataLoader(train_dataset, batch_size=64, shuffle=True)"
      ],
      "metadata": {
        "id": "Z30VrnvtjH4T"
      },
      "execution_count": 7,
      "outputs": []
    },
    {
      "cell_type": "code",
      "source": [
        "train(model, train_loader, epochs=20)"
      ],
      "metadata": {
        "colab": {
          "base_uri": "https://localhost:8080/"
        },
        "id": "vbmfTMfjj9A0",
        "outputId": "48ffc06b-2535-474f-aa47-f81ed2ef1239"
      },
      "execution_count": 12,
      "outputs": [
        {
          "output_type": "stream",
          "name": "stdout",
          "text": [
            "Epoch 1/20, Loss: 0.6499, Accuracy: 0.6069\n",
            "Epoch 2/20, Loss: 0.5644, Accuracy: 0.6901\n",
            "Epoch 3/20, Loss: 0.5330, Accuracy: 0.7187\n",
            "Epoch 4/20, Loss: 0.5034, Accuracy: 0.7418\n",
            "Epoch 5/20, Loss: 0.4704, Accuracy: 0.7670\n",
            "Epoch 6/20, Loss: 0.4501, Accuracy: 0.7834\n",
            "Epoch 7/20, Loss: 0.4300, Accuracy: 0.7958\n",
            "Epoch 8/20, Loss: 0.4200, Accuracy: 0.8020\n",
            "Epoch 9/20, Loss: 0.4106, Accuracy: 0.8092\n",
            "Epoch 10/20, Loss: 0.4081, Accuracy: 0.8111\n",
            "Epoch 11/20, Loss: 0.3977, Accuracy: 0.8177\n",
            "Epoch 12/20, Loss: 0.3885, Accuracy: 0.8228\n",
            "Epoch 13/20, Loss: 0.3853, Accuracy: 0.8216\n",
            "Epoch 14/20, Loss: 0.3800, Accuracy: 0.8241\n",
            "Epoch 15/20, Loss: 0.3751, Accuracy: 0.8285\n",
            "Epoch 16/20, Loss: 0.3722, Accuracy: 0.8293\n",
            "Epoch 17/20, Loss: 0.3703, Accuracy: 0.8322\n",
            "Epoch 18/20, Loss: 0.3673, Accuracy: 0.8322\n",
            "Epoch 19/20, Loss: 0.3632, Accuracy: 0.8374\n",
            "Epoch 20/20, Loss: 0.3589, Accuracy: 0.8360\n"
          ]
        }
      ]
    },
    {
      "cell_type": "code",
      "source": [
        "torch.save({\n",
        "    'model': model.state_dict(),\n",
        "}, '/content/drive/MyDrive/braai_cnn/pytorch_cnn.pt')"
      ],
      "metadata": {
        "id": "lxPPTKqQmpBO"
      },
      "execution_count": 14,
      "outputs": []
    }
  ]
}