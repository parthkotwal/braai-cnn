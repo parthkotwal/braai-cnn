{
  "nbformat": 4,
  "nbformat_minor": 0,
  "metadata": {
    "colab": {
      "provenance": [],
      "gpuType": "V28",
      "mount_file_id": "1n3XdbPfrGRbz_6AQElx5YYqNZq_9cvHT",
      "authorship_tag": "ABX9TyNTEJLrIdYFxKwRqAEBZ+9e",
      "include_colab_link": true
    },
    "kernelspec": {
      "name": "python3",
      "display_name": "Python 3"
    },
    "language_info": {
      "name": "python"
    },
    "accelerator": "TPU"
  },
  "cells": [
    {
      "cell_type": "markdown",
      "metadata": {
        "id": "view-in-github",
        "colab_type": "text"
      },
      "source": [
        "<a href=\"https://colab.research.google.com/github/parthkotwal/braai-cnn/blob/main/braai_cnn_scratch.ipynb\" target=\"_parent\"><img src=\"https://colab.research.google.com/assets/colab-badge.svg\" alt=\"Open In Colab\"/></a>"
      ]
    },
    {
      "cell_type": "code",
      "source": [
        "from google.colab import drive\n",
        "drive.mount('/content/drive')"
      ],
      "metadata": {
        "colab": {
          "base_uri": "https://localhost:8080/"
        },
        "collapsed": true,
        "id": "FSqtsPY0um0o",
        "outputId": "52c70499-952d-425e-b057-b588a33e854f"
      },
      "execution_count": 1,
      "outputs": [
        {
          "output_type": "stream",
          "name": "stdout",
          "text": [
            "Drive already mounted at /content/drive; to attempt to forcibly remount, call drive.mount(\"/content/drive\", force_remount=True).\n"
          ]
        }
      ]
    },
    {
      "cell_type": "code",
      "source": [
        "!pip install --quiet fastavro astropy aplpy"
      ],
      "metadata": {
        "colab": {
          "base_uri": "https://localhost:8080/"
        },
        "id": "DhbcLQDYyIV7",
        "outputId": "270e0c3b-0111-432f-bc02-0b7ba532adb6"
      },
      "execution_count": 2,
      "outputs": [
        {
          "output_type": "stream",
          "name": "stdout",
          "text": [
            "\u001b[2K   \u001b[90m━━━━━━━━━━━━━━━━━━━━━━━━━━━━━━━━━━━━━━━━\u001b[0m \u001b[32m3.3/3.3 MB\u001b[0m \u001b[31m39.9 MB/s\u001b[0m eta \u001b[36m0:00:00\u001b[0m\n",
            "\u001b[2K   \u001b[90m━━━━━━━━━━━━━━━━━━━━━━━━━━━━━━━━━━━━━━━━\u001b[0m \u001b[32m10.1/10.1 MB\u001b[0m \u001b[31m115.6 MB/s\u001b[0m eta \u001b[36m0:00:00\u001b[0m\n",
            "\u001b[2K   \u001b[90m━━━━━━━━━━━━━━━━━━━━━━━━━━━━━━━━━━━━━━━━\u001b[0m \u001b[32m85.4/85.4 kB\u001b[0m \u001b[31m6.5 MB/s\u001b[0m eta \u001b[36m0:00:00\u001b[0m\n",
            "\u001b[2K   \u001b[90m━━━━━━━━━━━━━━━━━━━━━━━━━━━━━━━━━━━━━━━━\u001b[0m \u001b[32m2.0/2.0 MB\u001b[0m \u001b[31m67.3 MB/s\u001b[0m eta \u001b[36m0:00:00\u001b[0m\n",
            "\u001b[2K   \u001b[90m━━━━━━━━━━━━━━━━━━━━━━━━━━━━━━━━━━━━━━━━\u001b[0m \u001b[32m378.9/378.9 kB\u001b[0m \u001b[31m27.1 MB/s\u001b[0m eta \u001b[36m0:00:00\u001b[0m\n",
            "\u001b[2K   \u001b[90m━━━━━━━━━━━━━━━━━━━━━━━━━━━━━━━━━━━━━━━━\u001b[0m \u001b[32m738.7/738.7 kB\u001b[0m \u001b[31m40.3 MB/s\u001b[0m eta \u001b[36m0:00:00\u001b[0m\n",
            "\u001b[2K   \u001b[90m━━━━━━━━━━━━━━━━━━━━━━━━━━━━━━━━━━━━━━━━\u001b[0m \u001b[32m534.8/534.8 kB\u001b[0m \u001b[31m31.4 MB/s\u001b[0m eta \u001b[36m0:00:00\u001b[0m\n",
            "\u001b[2K   \u001b[90m━━━━━━━━━━━━━━━━━━━━━━━━━━━━━━━━━━━━━━━━\u001b[0m \u001b[32m1.7/1.7 MB\u001b[0m \u001b[31m67.4 MB/s\u001b[0m eta \u001b[36m0:00:00\u001b[0m\n",
            "\u001b[2K   \u001b[90m━━━━━━━━━━━━━━━━━━━━━━━━━━━━━━━━━━━━━━━━\u001b[0m \u001b[32m3.1/3.1 MB\u001b[0m \u001b[31m88.2 MB/s\u001b[0m eta \u001b[36m0:00:00\u001b[0m\n",
            "\u001b[2K   \u001b[90m━━━━━━━━━━━━━━━━━━━━━━━━━━━━━━━━━━━━━━━━\u001b[0m \u001b[32m195.2/195.2 kB\u001b[0m \u001b[31m14.5 MB/s\u001b[0m eta \u001b[36m0:00:00\u001b[0m\n",
            "\u001b[2K   \u001b[90m━━━━━━━━━━━━━━━━━━━━━━━━━━━━━━━━━━━━━━━━\u001b[0m \u001b[32m1.5/1.5 MB\u001b[0m \u001b[31m64.0 MB/s\u001b[0m eta \u001b[36m0:00:00\u001b[0m\n",
            "\u001b[2K   \u001b[90m━━━━━━━━━━━━━━━━━━━━━━━━━━━━━━━━━━━━━━━━\u001b[0m \u001b[32m205.4/205.4 kB\u001b[0m \u001b[31m16.4 MB/s\u001b[0m eta \u001b[36m0:00:00\u001b[0m\n",
            "\u001b[2K   \u001b[90m━━━━━━━━━━━━━━━━━━━━━━━━━━━━━━━━━━━━━━━━\u001b[0m \u001b[32m8.8/8.8 MB\u001b[0m \u001b[31m121.8 MB/s\u001b[0m eta \u001b[36m0:00:00\u001b[0m\n",
            "\u001b[2K   \u001b[90m━━━━━━━━━━━━━━━━━━━━━━━━━━━━━━━━━━━━━━━━\u001b[0m \u001b[32m53.7/53.7 kB\u001b[0m \u001b[31m4.3 MB/s\u001b[0m eta \u001b[36m0:00:00\u001b[0m\n",
            "\u001b[?25h"
          ]
        }
      ]
    },
    {
      "cell_type": "code",
      "source": [
        "import tarfile\n",
        "import os\n",
        "\n",
        "tar_file = \"drive/MyDrive/braai_cnn/ztf_public_20250302.tar.gz\"\n",
        "extract_dir = \"drive/MyDrive/braai_cnn/ztf_avro_data\"\n",
        "\n",
        "try:\n",
        "    with tarfile.open(tar_file, \"r:gz\") as tar:\n",
        "        tar.extractall(path=extract_dir)\n",
        "    print(f\"Extracted to: {extract_dir}\")\n",
        "except tarfile.ReadError as e:\n",
        "    print(\"Extraction failed:\", e)\n"
      ],
      "metadata": {
        "colab": {
          "base_uri": "https://localhost:8080/"
        },
        "id": "SnnapPlVyZ0Z",
        "outputId": "b5ae842c-28a2-4ba0-a651-05254b6ca8a7"
      },
      "execution_count": 8,
      "outputs": [
        {
          "output_type": "stream",
          "name": "stdout",
          "text": [
            "Extracted to: drive/MyDrive/braai_cnn/ztf_avro_data\n"
          ]
        }
      ]
    },
    {
      "cell_type": "code",
      "source": [
        "def find_files(root_dir):\n",
        "  for dir_name, subdir_list, file_list in os.walk(root_dir, followlinks=True):\n",
        "    for fname in file_list:\n",
        "      if fname.endswith('.avro'):\n",
        "        yield f\"{dir_name}/{fname}\"\n",
        "\n",
        "files_gen = list(find_files(extract_dir))\n",
        "print(f'{extract_dir} has {len(files_gen)} avro files')"
      ],
      "metadata": {
        "id": "GAB2joEwgDEZ",
        "colab": {
          "base_uri": "https://localhost:8080/"
        },
        "outputId": "2a1a26a2-03b5-4a23-bf34-77a594f163d9"
      },
      "execution_count": 9,
      "outputs": [
        {
          "output_type": "stream",
          "name": "stdout",
          "text": [
            "drive/MyDrive/braai_cnn/ztf_avro_data has 38368 avro files\n"
          ]
        }
      ]
    },
    {
      "cell_type": "code",
      "source": [
        "import fastavro\n",
        "\n",
        "with open(files_gen[0], 'rb') as f:\n",
        "    reader = fastavro.reader(f)\n",
        "    packet = next(reader)\n",
        "    print(packet.keys())"
      ],
      "metadata": {
        "colab": {
          "base_uri": "https://localhost:8080/"
        },
        "id": "4epXncOE97Hx",
        "outputId": "4cc4cfa8-bd87-4125-8fe2-866e58fa9be0"
      },
      "execution_count": 10,
      "outputs": [
        {
          "output_type": "stream",
          "name": "stdout",
          "text": [
            "dict_keys(['schemavsn', 'publisher', 'objectId', 'candid', 'candidate', 'prv_candidates', 'fp_hists', 'cutoutScience', 'cutoutTemplate', 'cutoutDifference'])\n"
          ]
        }
      ]
    },
    {
      "cell_type": "code",
      "source": [
        "import gzip\n",
        "import io\n",
        "from astropy.io import fits\n",
        "\n",
        "files = files_gen[:400]\n",
        "shapes = {}\n",
        "for fn in files:\n",
        "    with open(fn,'rb') as f:\n",
        "        pkt = next(fastavro.reader(f))\n",
        "    stamp = pkt['cutoutDifference']['stampData']\n",
        "    with gzip.open(io.BytesIO(stamp),'rb') as g:\n",
        "        data = fits.open(io.BytesIO(g.read()))[0].data\n",
        "    shapes[data.shape] = shapes.get(data.shape,0) + 1\n",
        "\n",
        "print(\"Stamp shape distribution:\")\n",
        "for shape, cnt in sorted(shapes.items()):\n",
        "    print(f\"  {shape}: {cnt}\")"
      ],
      "metadata": {
        "colab": {
          "base_uri": "https://localhost:8080/"
        },
        "id": "-4-ZZ7voChGH",
        "outputId": "07cf4522-ae69-46bb-93b8-c4ff91090f34"
      },
      "execution_count": 17,
      "outputs": [
        {
          "output_type": "stream",
          "name": "stdout",
          "text": [
            "Stamp shape distribution:\n",
            "  (42, 63): 1\n",
            "  (46, 63): 1\n",
            "  (53, 63): 2\n",
            "  (62, 63): 1\n",
            "  (63, 44): 1\n",
            "  (63, 45): 3\n",
            "  (63, 46): 2\n",
            "  (63, 49): 1\n",
            "  (63, 51): 1\n",
            "  (63, 53): 2\n",
            "  (63, 54): 1\n",
            "  (63, 57): 1\n",
            "  (63, 59): 1\n",
            "  (63, 62): 1\n",
            "  (63, 63): 381\n"
          ]
        }
      ]
    },
    {
      "cell_type": "code",
      "source": [
        "import matplotlib.pyplot as plt\n",
        "import numpy as np\n",
        "\n",
        "def get_difference_image(avro_path):\n",
        "    with open(avro_path, 'rb') as f:\n",
        "        reader = fastavro.reader(f)\n",
        "        for packet in reader:\n",
        "          stamp = packet['cutoutDifference']['stampData']\n",
        "          with gzip.open(io.BytesIO(stamp), 'rb') as gf:\n",
        "              with fits.open(io.BytesIO(gf.read())) as hdul:\n",
        "                  data = hdul[0].data\n",
        "                  return data.astype(np.float32)\n",
        "\n",
        "plt.figure(figsize=(12, 6))\n",
        "count = 0\n",
        "for i, path in enumerate(files_gen):\n",
        "    img = get_difference_image(path)\n",
        "    if img is not None and img.shape == (63, 63):\n",
        "        plt.subplot(2, 3, count + 1)\n",
        "        plt.imshow(img, cmap='gray', origin='lower')\n",
        "        plt.title(f\"Image {i}\")\n",
        "        plt.axis('off')\n",
        "        count += 1\n",
        "        if count == 6:\n",
        "            break\n",
        "\n",
        "plt.tight_layout()\n",
        "plt.show()"
      ],
      "metadata": {
        "colab": {
          "base_uri": "https://localhost:8080/",
          "height": 608
        },
        "id": "FZQ7TPPIM22J",
        "outputId": "c7dc37f4-f653-4d23-9f78-fdcc4da739db"
      },
      "execution_count": 52,
      "outputs": [
        {
          "output_type": "stream",
          "name": "stderr",
          "text": [
            "/usr/local/lib/python3.11/dist-packages/astropy/io/fits/hdu/hdulist.py:1231: VerifyWarning: Found a SIMPLE card but its format doesn't respect the FITS Standard\n",
            "  warnings.warn(\n"
          ]
        },
        {
          "output_type": "display_data",
          "data": {
            "text/plain": [
              "<Figure size 1200x600 with 6 Axes>"
            ],
            "image/png": "[encoded data removed]"
          },
          "metadata": {}
        }
      ]
    },
    {
      "cell_type": "code",
      "source": [
        "# Extract image from Avro file stamp data\n",
        "def extract_image(stamp_data):\n",
        "  with gzip.open(io.BytesIO(stamp_data), 'rb') as f:\n",
        "    with fits.open(io.BytesIO(f.read())) as hdul:\n",
        "      data = hdul[0].data\n",
        "      return data.astype(np.float32)"
      ],
      "metadata": {
        "id": "k-67a64e-yAM"
      },
      "execution_count": 18,
      "outputs": []
    },
    {
      "cell_type": "code",
      "source": [
        "# Normalize image from 0 to 1\n",
        "def normalize_image(img):\n",
        "  img = np.nan_to_num(img, nan=0.0)\n",
        "  min_val = np.min(img)\n",
        "  max_val = np.max(img)\n",
        "  normalized_image = (img - min_val) / float(max_val - min_val)\n",
        "  return normalized_image"
      ],
      "metadata": {
        "id": "BDAlhHHAA-r_"
      },
      "execution_count": 44,
      "outputs": []
    },
    {
      "cell_type": "code",
      "source": [
        "# Pad img shapes to 63, 63\n",
        "def pad_image(img):\n",
        "  h, w = img.shape\n",
        "  pad_h = 63 - h\n",
        "  pad_w = 63 - w\n",
        "  pad_top = pad_h // 2\n",
        "  pad_bottom = pad_h - pad_top\n",
        "  pad_left = pad_w // 2\n",
        "  pad_right = pad_w - pad_left\n",
        "  return np.pad(img, ((pad_top, pad_bottom), (pad_left, pad_right)), 'constant', constant_values=0)"
      ],
      "metadata": {
        "id": "GyvJ22LZE9GS"
      },
      "execution_count": 20,
      "outputs": []
    },
    {
      "cell_type": "code",
      "source": [
        "with open(files_gen[0], 'rb') as f:\n",
        "    reader = fastavro.reader(f)\n",
        "    packet = next(reader)\n",
        "\n",
        "    img = extract_image(packet['cutoutDifference']['stampData'])\n",
        "    print(f\"Raw: \\n{img}\")\n",
        "    print(f\"Raw img shape: {img.shape}\")\n",
        "\n",
        "\n",
        "    norm_img = normalize_image(img)\n",
        "    paddded_img = pad_image(norm_img)\n",
        "    print(f\"Padded: \\n{paddded_img}\")\n",
        "    print(f\"Padded img shape: {paddded_img.shape}\")"
      ],
      "metadata": {
        "colab": {
          "base_uri": "https://localhost:8080/"
        },
        "id": "rLro1yvcE6wZ",
        "outputId": "be3a5e66-53e5-412c-b8ae-35ea23346a08"
      },
      "execution_count": 51,
      "outputs": [
        {
          "output_type": "stream",
          "name": "stdout",
          "text": [
            "Raw: \n",
            "[[  5.563534    -7.3646345    7.0627956  ...   7.6137476   -3.2856426\n",
            "   -1.272709  ]\n",
            " [ -1.3615384   -1.6229812    6.5341887  ... -11.552932    -1.262141\n",
            "    1.130061  ]\n",
            " [ -4.7202168   -0.34604773   2.1768353  ...  -1.0252413    5.5219665\n",
            "   -7.620818  ]\n",
            " ...\n",
            " [  6.886244    -8.355415    -6.6425233  ...  -9.032979    -2.2566617\n",
            "  -13.624665  ]\n",
            " [-14.793417   -18.072886   -13.873298   ... -13.994884   -13.109203\n",
            "  -17.303469  ]\n",
            " [-38.16324    -52.183323   -42.60216    ... -46.258186   -43.597652\n",
            "  -40.308205  ]]\n",
            "Raw img shape: (46, 63)\n",
            "Padded: \n",
            "[[0. 0. 0. ... 0. 0. 0.]\n",
            " [0. 0. 0. ... 0. 0. 0.]\n",
            " [0. 0. 0. ... 0. 0. 0.]\n",
            " ...\n",
            " [0. 0. 0. ... 0. 0. 0.]\n",
            " [0. 0. 0. ... 0. 0. 0.]\n",
            " [0. 0. 0. ... 0. 0. 0.]]\n",
            "Padded img shape: (63, 63)\n"
          ]
        },
        {
          "output_type": "stream",
          "name": "stderr",
          "text": [
            "/usr/local/lib/python3.11/dist-packages/astropy/io/fits/hdu/hdulist.py:1231: VerifyWarning: Found a SIMPLE card but its format doesn't respect the FITS Standard\n",
            "  warnings.warn(\n"
          ]
        }
      ]
    },
    {
      "cell_type": "code",
      "source": [
        "images = []\n",
        "labels = []\n",
        "\n",
        "for i, avro_file in enumerate(files_gen):\n",
        "  try:\n",
        "    with open(avro_file, 'rb') as f:\n",
        "      reader = fastavro.reader(f)\n",
        "      for packet in reader:\n",
        "        img = extract_image(packet['cutoutDifference']['stampData'])\n",
        "        if img is None:\n",
        "          continue\n",
        "\n",
        "        norm_img = normalize_image(img)\n",
        "        r, c = norm_img.shape\n",
        "        if r != 63 or c != 63:\n",
        "          padded_img = pad_image(norm_img)\n",
        "        else:\n",
        "          padded_img = norm_img\n",
        "\n",
        "        rb_score = packet['candidate'].get('rb',0)\n",
        "        if rb_score > 0.7:\n",
        "          label = 1\n",
        "        else:\n",
        "          label = 0\n",
        "\n",
        "        images.append(padded_img)\n",
        "        labels.append(label)\n",
        "        break  # One alert per .avro file\n",
        "\n",
        "  except Exception as e:\n",
        "        print(f\"Skipping {avro_file} due to error: {e}\")\n",
        ""
      ],
      "metadata": {
        "colab": {
          "base_uri": "https://localhost:8080/"
        },
        "id": "LXS3jvyTMDrj",
        "outputId": "a2a8ae69-ee1d-438d-af8d-cdf4eb4083bc"
      },
      "execution_count": 57,
      "outputs": [
        {
          "output_type": "stream",
          "name": "stderr",
          "text": [
            "/usr/local/lib/python3.11/dist-packages/astropy/io/fits/hdu/hdulist.py:1231: VerifyWarning: Found a SIMPLE card but its format doesn't respect the FITS Standard\n",
            "  warnings.warn(\n"
          ]
        }
      ]
    },
    {
      "cell_type": "code",
      "source": [
        "images = np.stack(images)\n",
        "labels = np.array(labels)\n",
        "print(f\"Images shape: {images.shape}\")\n",
        "print(f\"Labels shape: {labels.shape}\")"
      ],
      "metadata": {
        "colab": {
          "base_uri": "https://localhost:8080/"
        },
        "id": "NYOw1tQAU5dC",
        "outputId": "33d9fdb1-90dd-4422-f8bd-d286610faf90"
      },
      "execution_count": 58,
      "outputs": [
        {
          "output_type": "stream",
          "name": "stdout",
          "text": [
            "Images shape: (38368, 63, 63)\n",
            "Labels shape: (38368,)\n"
          ]
        }
      ]
    },
    {
      "cell_type": "code",
      "source": [
        "save_path = \"drive/MyDrive/braai_cnn/ztf_diff_dataset.npz\"\n",
        "np.savez(save_path, images=images, labels=labels)\n",
        "print(f\"Saved dataset to {save_path}\")"
      ],
      "metadata": {
        "colab": {
          "base_uri": "https://localhost:8080/"
        },
        "id": "-XtHflErUDn3",
        "outputId": "2a7b9b7b-168b-4087-e9f2-5ce84e65e7f5"
      },
      "execution_count": 60,
      "outputs": [
        {
          "output_type": "stream",
          "name": "stdout",
          "text": [
            "Saved dataset to drive/MyDrive/braai_cnn/ztf_diff_dataset.npz\n"
          ]
        }
      ]
    }
  ]
}