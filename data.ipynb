{
  "nbformat": 4,
  "nbformat_minor": 0,
  "metadata": {
    "colab": {
      "provenance": [],
      "gpuType": "T4",
      "mount_file_id": "1n3XdbPfrGRbz_6AQElx5YYqNZq_9cvHT",
      "authorship_tag": "ABX9TyN9Aq8ewb6XHOgm9IXmvw7n",
      "include_colab_link": true
    },
    "kernelspec": {
      "name": "python3",
      "display_name": "Python 3"
    },
    "language_info": {
      "name": "python"
    },
    "accelerator": "GPU"
  },
  "cells": [
    {
      "cell_type": "markdown",
      "metadata": {
        "id": "view-in-github",
        "colab_type": "text"
      },
      "source": [
        "<a href=\"https://colab.research.google.com/github/parthkotwal/braai-cnn/blob/main/data.ipynb\" target=\"_parent\"><img src=\"https://colab.research.google.com/assets/colab-badge.svg\" alt=\"Open In Colab\"/></a>"
      ]
    },
    {
      "cell_type": "code",
      "source": [
        "from google.colab import drive\n",
        "drive.mount('/content/drive')"
      ],
      "metadata": {
        "colab": {
          "base_uri": "https://localhost:8080/"
        },
        "collapsed": true,
        "id": "FSqtsPY0um0o",
        "outputId": "d7f772cf-e0fe-4ea6-8839-503ffe64bc2e"
      },
      "execution_count": 1,
      "outputs": [
        {
          "output_type": "stream",
          "name": "stdout",
          "text": [
            "Drive already mounted at /content/drive; to attempt to forcibly remount, call drive.mount(\"/content/drive\", force_remount=True).\n"
          ]
        }
      ]
    },
    {
      "cell_type": "code",
      "source": [
        "!pip install --quiet fastavro astropy aplpy"
      ],
      "metadata": {
        "colab": {
          "base_uri": "https://localhost:8080/"
        },
        "id": "DhbcLQDYyIV7",
        "outputId": "ab920694-f594-4fef-91b8-af6ace1be8b4"
      },
      "execution_count": 2,
      "outputs": [
        {
          "output_type": "stream",
          "name": "stdout",
          "text": [
            "\u001b[?25l   \u001b[90m━━━━━━━━━━━━━━━━━━━━━━━━━━━━━━━━━━━━━━━━\u001b[0m \u001b[32m0.0/3.3 MB\u001b[0m \u001b[31m?\u001b[0m eta \u001b[36m-:--:--\u001b[0m\r\u001b[2K   \u001b[91m━━━━━━━━━━━━━━━━━━━━━━━━━━━━━━━━━━━━━━━\u001b[0m\u001b[91m╸\u001b[0m \u001b[32m3.3/3.3 MB\u001b[0m \u001b[31m185.3 MB/s\u001b[0m eta \u001b[36m0:00:01\u001b[0m\r\u001b[2K   \u001b[90m━━━━━━━━━━━━━━━━━━━━━━━━━━━━━━━━━━━━━━━━\u001b[0m \u001b[32m3.3/3.3 MB\u001b[0m \u001b[31m92.1 MB/s\u001b[0m eta \u001b[36m0:00:00\u001b[0m\n",
            "\u001b[?25h\u001b[?25l   \u001b[90m━━━━━━━━━━━━━━━━━━━━━━━━━━━━━━━━━━━━━━━━\u001b[0m \u001b[32m0.0/85.4 kB\u001b[0m \u001b[31m?\u001b[0m eta \u001b[36m-:--:--\u001b[0m\r\u001b[2K   \u001b[90m━━━━━━━━━━━━━━━━━━━━━━━━━━━━━━━━━━━━━━━━\u001b[0m \u001b[32m85.4/85.4 kB\u001b[0m \u001b[31m8.3 MB/s\u001b[0m eta \u001b[36m0:00:00\u001b[0m\n",
            "\u001b[2K   \u001b[90m━━━━━━━━━━━━━━━━━━━━━━━━━━━━━━━━━━━━━━━━\u001b[0m \u001b[32m378.9/378.9 kB\u001b[0m \u001b[31m32.6 MB/s\u001b[0m eta \u001b[36m0:00:00\u001b[0m\n",
            "\u001b[2K   \u001b[90m━━━━━━━━━━━━━━━━━━━━━━━━━━━━━━━━━━━━━━━━\u001b[0m \u001b[32m534.8/534.8 kB\u001b[0m \u001b[31m38.8 MB/s\u001b[0m eta \u001b[36m0:00:00\u001b[0m\n",
            "\u001b[2K   \u001b[90m━━━━━━━━━━━━━━━━━━━━━━━━━━━━━━━━━━━━━━━━\u001b[0m \u001b[32m1.7/1.7 MB\u001b[0m \u001b[31m72.9 MB/s\u001b[0m eta \u001b[36m0:00:00\u001b[0m\n",
            "\u001b[2K   \u001b[90m━━━━━━━━━━━━━━━━━━━━━━━━━━━━━━━━━━━━━━━━\u001b[0m \u001b[32m195.2/195.2 kB\u001b[0m \u001b[31m19.5 MB/s\u001b[0m eta \u001b[36m0:00:00\u001b[0m\n",
            "\u001b[2K   \u001b[90m━━━━━━━━━━━━━━━━━━━━━━━━━━━━━━━━━━━━━━━━\u001b[0m \u001b[32m209.5/209.5 kB\u001b[0m \u001b[31m21.8 MB/s\u001b[0m eta \u001b[36m0:00:00\u001b[0m\n",
            "\u001b[2K   \u001b[90m━━━━━━━━━━━━━━━━━━━━━━━━━━━━━━━━━━━━━━━━\u001b[0m \u001b[32m8.8/8.8 MB\u001b[0m \u001b[31m105.8 MB/s\u001b[0m eta \u001b[36m0:00:00\u001b[0m\n",
            "\u001b[2K   \u001b[90m━━━━━━━━━━━━━━━━━━━━━━━━━━━━━━━━━━━━━━━━\u001b[0m \u001b[32m53.7/53.7 kB\u001b[0m \u001b[31m5.0 MB/s\u001b[0m eta \u001b[36m0:00:00\u001b[0m\n",
            "\u001b[?25h"
          ]
        }
      ]
    },
    {
      "cell_type": "code",
      "source": [
        "import tarfile\n",
        "import os\n",
        "\n",
        "tar_file = \"drive/MyDrive/braai_cnn/ztf_public_20250302.tar.gz\"\n",
        "extract_dir = \"drive/MyDrive/braai_cnn/ztf_avro_data\""
      ],
      "metadata": {
        "id": "vGj7l0zmWKoW"
      },
      "execution_count": 3,
      "outputs": []
    },
    {
      "cell_type": "code",
      "source": [
        "try:\n",
        "    with tarfile.open(tar_file, \"r:gz\") as tar:\n",
        "        tar.extractall(path=extract_dir)\n",
        "    print(f\"Extracted to: {extract_dir}\")\n",
        "except tarfile.ReadError as e:\n",
        "    print(\"Extraction failed:\", e)"
      ],
      "metadata": {
        "id": "SnnapPlVyZ0Z"
      },
      "execution_count": null,
      "outputs": []
    },
    {
      "cell_type": "code",
      "source": [
        "def find_files(root_dir):\n",
        "  for dir_name, subdir_list, file_list in os.walk(root_dir, followlinks=True):\n",
        "    for fname in file_list:\n",
        "      if fname.endswith('.avro'):\n",
        "        yield f\"{dir_name}/{fname}\"\n",
        "\n",
        "files_gen = list(find_files(extract_dir))\n",
        "print(f'{extract_dir} has {len(files_gen)} avro files')"
      ],
      "metadata": {
        "id": "GAB2joEwgDEZ",
        "colab": {
          "base_uri": "https://localhost:8080/"
        },
        "outputId": "46f6348b-4c36-4850-bf65-7e720f095172"
      },
      "execution_count": 5,
      "outputs": [
        {
          "output_type": "stream",
          "name": "stdout",
          "text": [
            "drive/MyDrive/braai_cnn/ztf_avro_data has 38368 avro files\n"
          ]
        }
      ]
    },
    {
      "cell_type": "code",
      "source": [
        "import fastavro\n",
        "\n",
        "with open(files_gen[0], 'rb') as f:\n",
        "    reader = fastavro.reader(f)\n",
        "    packet = next(reader)\n",
        "    print(packet.keys())"
      ],
      "metadata": {
        "colab": {
          "base_uri": "https://localhost:8080/"
        },
        "id": "4epXncOE97Hx",
        "outputId": "7f6c6165-f441-4ec7-876e-8b3ce699960f"
      },
      "execution_count": 6,
      "outputs": [
        {
          "output_type": "stream",
          "name": "stdout",
          "text": [
            "dict_keys(['schemavsn', 'publisher', 'objectId', 'candid', 'candidate', 'prv_candidates', 'fp_hists', 'cutoutScience', 'cutoutTemplate', 'cutoutDifference'])\n"
          ]
        }
      ]
    },
    {
      "cell_type": "code",
      "source": [
        "import gzip\n",
        "import io\n",
        "from astropy.io import fits\n",
        "\n",
        "files = files_gen[:400]\n",
        "shapes = {}\n",
        "for fn in files:\n",
        "    with open(fn,'rb') as f:\n",
        "        pkt = next(fastavro.reader(f))\n",
        "    stamp = pkt['cutoutDifference']['stampData']\n",
        "    with gzip.open(io.BytesIO(stamp),'rb') as g:\n",
        "        data = fits.open(io.BytesIO(g.read()))[0].data\n",
        "    shapes[data.shape] = shapes.get(data.shape,0) + 1\n",
        "\n",
        "print(\"Stamp shape distribution:\")\n",
        "for shape, cnt in sorted(shapes.items()):\n",
        "    print(f\"  {shape}: {cnt}\")"
      ],
      "metadata": {
        "colab": {
          "base_uri": "https://localhost:8080/"
        },
        "id": "-4-ZZ7voChGH",
        "outputId": "0a7aedd4-4f75-4f16-ff5f-66c370902bb0"
      },
      "execution_count": 7,
      "outputs": [
        {
          "output_type": "stream",
          "name": "stderr",
          "text": [
            "WARNING: VerifyWarning: Found a SIMPLE card but its format doesn't respect the FITS Standard [astropy.io.fits.hdu.hdulist]\n",
            "WARNING:astropy:VerifyWarning: Found a SIMPLE card but its format doesn't respect the FITS Standard\n"
          ]
        },
        {
          "output_type": "stream",
          "name": "stdout",
          "text": [
            "Stamp shape distribution:\n",
            "  (44, 63): 1\n",
            "  (46, 63): 1\n",
            "  (63, 43): 2\n",
            "  (63, 48): 1\n",
            "  (63, 49): 1\n",
            "  (63, 50): 1\n",
            "  (63, 51): 1\n",
            "  (63, 52): 2\n",
            "  (63, 53): 1\n",
            "  (63, 54): 1\n",
            "  (63, 57): 1\n",
            "  (63, 63): 387\n"
          ]
        }
      ]
    },
    {
      "cell_type": "code",
      "source": [
        "import matplotlib.pyplot as plt\n",
        "import numpy as np\n",
        "\n",
        "def get_difference_image(avro_path):\n",
        "    with open(avro_path, 'rb') as f:\n",
        "        reader = fastavro.reader(f)\n",
        "        for packet in reader:\n",
        "          stamp = packet['cutoutDifference']['stampData']\n",
        "          with gzip.open(io.BytesIO(stamp), 'rb') as gf:\n",
        "              with fits.open(io.BytesIO(gf.read())) as hdul:\n",
        "                  data = hdul[0].data\n",
        "                  return data.astype(np.float32)\n",
        "\n",
        "plt.figure(figsize=(12, 6))\n",
        "count = 0\n",
        "for i, path in enumerate(files_gen):\n",
        "    img = get_difference_image(path)\n",
        "    if img is not None and img.shape == (63, 63):\n",
        "        plt.subplot(2, 3, count + 1)\n",
        "        plt.imshow(img, cmap='gray', origin='lower')\n",
        "        plt.title(f\"Image {i}\")\n",
        "        plt.axis('off')\n",
        "        count += 1\n",
        "        if count == 6:\n",
        "            break\n",
        "\n",
        "plt.tight_layout()\n",
        "plt.show()"
      ],
      "metadata": {
        "colab": {
          "base_uri": "https://localhost:8080/",
          "height": 608
        },
        "id": "FZQ7TPPIM22J",
        "outputId": "601930a3-2d4e-4ec2-b013-15f6e6be97fc"
      },
      "execution_count": 11,
      "outputs": [
        {
          "output_type": "stream",
          "name": "stderr",
          "text": [
            "WARNING: VerifyWarning: Found a SIMPLE card but its format doesn't respect the FITS Standard [astropy.io.fits.hdu.hdulist]\n",
            "WARNING:astropy:VerifyWarning: Found a SIMPLE card but its format doesn't respect the FITS Standard\n"
          ]
        },
        {
          "output_type": "display_data",
          "data": {
            "text/plain": [
              "<Figure size 1200x600 with 6 Axes>"
            ],
            "image/png": "[encoded data removed]"
          },
          "metadata": {}
        }
      ]
    },
    {
      "cell_type": "code",
      "source": [
        "# Extract image from Avro file stamp data\n",
        "def extract_image(stamp_data):\n",
        "  with gzip.open(io.BytesIO(stamp_data), 'rb') as f:\n",
        "    with fits.open(io.BytesIO(f.read())) as hdul:\n",
        "      data = hdul[0].data\n",
        "      return data.astype(np.float32)"
      ],
      "metadata": {
        "id": "k-67a64e-yAM"
      },
      "execution_count": 9,
      "outputs": []
    },
    {
      "cell_type": "code",
      "source": [
        "# Normalize image from 0 to 1\n",
        "def normalize_image(img):\n",
        "  img = np.nan_to_num(img, nan=0.0)\n",
        "  min_val = np.min(img)\n",
        "  max_val = np.max(img)\n",
        "  normalized_image = (img - min_val) / float(max_val - min_val)\n",
        "  return normalized_image"
      ],
      "metadata": {
        "id": "BDAlhHHAA-r_"
      },
      "execution_count": 10,
      "outputs": []
    },
    {
      "cell_type": "code",
      "source": [
        "# Pad img shapes to 63, 63\n",
        "def pad_image(img):\n",
        "  h, w = img.shape\n",
        "  pad_h = 63 - h\n",
        "  pad_w = 63 - w\n",
        "  pad_top = pad_h // 2\n",
        "  pad_bottom = pad_h - pad_top\n",
        "  pad_left = pad_w // 2\n",
        "  pad_right = pad_w - pad_left\n",
        "  return np.pad(img, ((pad_top, pad_bottom), (pad_left, pad_right)), 'constant', constant_values=0)"
      ],
      "metadata": {
        "id": "GyvJ22LZE9GS"
      },
      "execution_count": 11,
      "outputs": []
    },
    {
      "cell_type": "code",
      "source": [
        "# Combine pad and normalize\n",
        "def preprocess_image(img):\n",
        "  img = normalize_image(img)\n",
        "  if img.shape != (63, 63):\n",
        "    img = pad_image(img)\n",
        "  return img"
      ],
      "metadata": {
        "id": "4AoDYY68oCSx"
      },
      "execution_count": 12,
      "outputs": []
    },
    {
      "cell_type": "code",
      "source": [
        "with open(files_gen[0], 'rb') as f:\n",
        "  reader = fastavro.reader(f)\n",
        "  packet = next(reader)\n",
        "\n",
        "  sci = extract_image(packet['cutoutScience']['stampData'])\n",
        "  temp = extract_image(packet['cutoutTemplate']['stampData'])\n",
        "  diff = extract_image(packet['cutoutDifference']['stampData'])\n",
        "  print(f\"Raw: \\n{sci}\")\n",
        "  print(f\"Raw img shape: {sci.shape}\")\n",
        "\n",
        "\n",
        "  norm_sci = normalize_image(sci)\n",
        "  norm_temp = normalize_image(temp)\n",
        "  norm_diff = normalize_image(diff)\n",
        "  print(f\"Normalized: \\n{norm_sci}\")\n",
        "  print(f\"Normalized img shape: {norm_sci.shape}\")\n",
        "\n",
        "  padded_sci = pad_image(norm_sci)\n",
        "  padded_temp = pad_image(norm_temp)\n",
        "  padded_diff = pad_image(norm_diff)\n",
        "  print(f\"Padded: \\n{padded_sci}\")\n",
        "  print(f\"Padded img shape: {padded_diff.shape}\")"
      ],
      "metadata": {
        "colab": {
          "base_uri": "https://localhost:8080/"
        },
        "id": "rLro1yvcE6wZ",
        "outputId": "902a5b56-739d-42c3-fd30-1ed7c7f51fc1"
      },
      "execution_count": null,
      "outputs": [
        {
          "output_type": "stream",
          "name": "stdout",
          "text": [
            "Raw: \n",
            "[[160.12451 155.982   173.31107 ... 167.00821 178.58768 187.73584]\n",
            " [166.35559 180.34796 195.1069  ... 173.34845 173.06259 201.77411]\n",
            " [165.07758 196.91177 196.58249 ... 152.15427 187.67743 160.86337]\n",
            " ...\n",
            " [196.01402 179.77202 177.9977  ... 137.0761  137.92958 149.02193]\n",
            " [185.24776 161.99538 173.21935 ... 145.4662  138.24422 146.7936 ]\n",
            " [159.26534 156.20692 150.87337 ... 136.77507 134.0873  135.28355]]\n",
            "Raw img shape: (63, 63)\n",
            "Normalized: \n",
            "[[0.01002125 0.00918871 0.01267139 ... 0.01140469 0.01373185 0.01557039]\n",
            " [0.01127353 0.01408562 0.01705178 ... 0.01267891 0.01262146 0.01839171]\n",
            " [0.01101668 0.01741451 0.01734833 ... 0.00841944 0.01555865 0.01016974]\n",
            " ...\n",
            " [0.01723408 0.01396987 0.01361328 ... 0.00538913 0.00556066 0.00778993]\n",
            " [0.01507035 0.01039724 0.01265296 ... 0.00707532 0.00562389 0.00734209]\n",
            " [0.00984858 0.00923392 0.00816202 ... 0.00532863 0.00478846 0.00502888]]\n",
            "Normalized img shape: (63, 63)\n",
            "Padded: \n",
            "[[0.01002125 0.00918871 0.01267139 ... 0.01140469 0.01373185 0.01557039]\n",
            " [0.01127353 0.01408562 0.01705178 ... 0.01267891 0.01262146 0.01839171]\n",
            " [0.01101668 0.01741451 0.01734833 ... 0.00841944 0.01555865 0.01016974]\n",
            " ...\n",
            " [0.01723408 0.01396987 0.01361328 ... 0.00538913 0.00556066 0.00778993]\n",
            " [0.01507035 0.01039724 0.01265296 ... 0.00707532 0.00562389 0.00734209]\n",
            " [0.00984858 0.00923392 0.00816202 ... 0.00532863 0.00478846 0.00502888]]\n",
            "Padded img shape: (63, 63)\n"
          ]
        }
      ]
    },
    {
      "cell_type": "code",
      "source": [
        "save_dir = \"drive/MyDrive/braai_cnn/ztf_chunks\"\n",
        "os.makedirs(save_dir, exist_ok=True)\n",
        "\n",
        "chunk_size = 1000\n",
        "total_files = 38368\n",
        "img_shape = (63, 63, 3)\n",
        "\n",
        "files = list(files_gen)"
      ],
      "metadata": {
        "id": "-XtHflErUDn3"
      },
      "execution_count": 21,
      "outputs": []
    },
    {
      "cell_type": "code",
      "source": [
        "import gc\n",
        "\n",
        "def process_chunks(start, stop):\n",
        "  images = np.zeros((chunk_size, *img_shape), dtype=np.float32)\n",
        "  labels = np.zeros((chunk_size, 1), dtype=np.int8)\n",
        "\n",
        "  for i in range(chunk_size):\n",
        "    file_id = start + i\n",
        "    if file_id >= total_files:\n",
        "        images = images[:i]\n",
        "        labels = labels[:i]\n",
        "        break\n",
        "\n",
        "    avro_file = files[file_id]\n",
        "    try:\n",
        "      with open(avro_file, 'rb') as f:\n",
        "        reader = fastavro.reader(f)\n",
        "        packet = next(reader, None)\n",
        "        if packet is None:\n",
        "          continue\n",
        "\n",
        "        sci = extract_image(packet['cutoutScience']['stampData'])\n",
        "        temp = extract_image(packet['cutoutTemplate']['stampData'])\n",
        "        diff = extract_image(packet['cutoutDifference']['stampData'])\n",
        "\n",
        "        if any(x is None for x in (sci, temp, diff)):\n",
        "          continue\n",
        "\n",
        "        sci = preprocess_image(sci)\n",
        "        temp = preprocess_image(temp)\n",
        "        diff = preprocess_image(diff)\n",
        "\n",
        "        stacked_img = np.stack((sci, temp, diff), axis=-1)\n",
        "\n",
        "        rb_score = packet['candidate'].get('rb',0)\n",
        "        if rb_score > 0.7:\n",
        "          label = 1\n",
        "        else:\n",
        "          label = 0\n",
        "\n",
        "        images[i] = stacked_img\n",
        "        labels[i] = label\n",
        "\n",
        "    except Exception as e:\n",
        "      print(f\"Skipping {avro_file} due to error: {e}\")\n",
        "\n",
        "    finally:\n",
        "      gc.collect()\n",
        "\n",
        "  save_path = os.path.join(save_dir, f\"ztf_chunk_{stop:03}.npz\")\n",
        "  np.savez_compressed(save_path, images=images, labels=labels)\n",
        "  print(f\"Saved chunk {stop} with {images.shape[0]} samples\")"
      ],
      "metadata": {
        "id": "ITx8cQLeUB2j"
      },
      "execution_count": 22,
      "outputs": []
    },
    {
      "cell_type": "code",
      "source": [
        "existing = set()\n",
        "for f in os.listdir(save_dir):\n",
        "  if f.startswith(\"ztf_chunk_\") and f.endswith(\".npz\"):\n",
        "    existing.add(int(f.split('_')[-1].split('.')[0]))\n",
        "\n",
        "for stop in range((total_files + chunk_size - 1) // chunk_size):\n",
        "    if stop in existing:\n",
        "        print(f\"Skipping chunk {stop}\")\n",
        "        continue\n",
        "\n",
        "    start = stop * chunk_size\n",
        "    process_chunks(start, stop)"
      ],
      "metadata": {
        "colab": {
          "base_uri": "https://localhost:8080/"
        },
        "id": "14u1gqE7dKIY",
        "outputId": "15a585cd-c0c6-45d0-ca98-45679bff644b"
      },
      "execution_count": null,
      "outputs": [
        {
          "output_type": "stream",
          "name": "stderr",
          "text": [
            "WARNING: VerifyWarning: Found a SIMPLE card but its format doesn't respect the FITS Standard [astropy.io.fits.hdu.hdulist]\n",
            "WARNING:astropy:VerifyWarning: Found a SIMPLE card but its format doesn't respect the FITS Standard\n"
          ]
        },
        {
          "output_type": "stream",
          "name": "stdout",
          "text": [
            "Skipping chunk 0\n",
            "Skipping chunk 1\n",
            "Saved chunk 2 with 1000 samples\n"
          ]
        }
      ]
    },
    {
      "cell_type": "markdown",
      "source": [
        "## Model Structure\n",
        "\n",
        "- **Input**\n",
        "  - Type: -\n",
        "  - Filters/Units: -\n",
        "  - Output Shape: (63, 63, 3)\n",
        "  - Notes: 3-channel image (science, template, difference)\n",
        "\n",
        "- **Conv2D 1**\n",
        "  - Type: Conv2D\n",
        "  - Filters/Units: 16 filters\n",
        "  - Output Shape: (61, 61, 16)\n",
        "  - Notes: 3×3 kernels, valid padding\n",
        "\n",
        "- **Conv2D 2**\n",
        "  - Type: Conv2D\n",
        "  - Filters/Units: 16 filters\n",
        "  - Output Shape: (59, 59, 16)\n",
        "  - Notes: 3×3\n",
        "\n",
        "- **MaxPool 1**\n",
        "  - Type: Pooling\n",
        "  - Filters/Units: 2×2\n",
        "  - Output Shape: (29, 29, 16)\n",
        "  - Notes: Standard 2×2\n",
        "\n",
        "- **Dropout (skip)**\n",
        "  - Type: (skip)\n",
        "  - Filters/Units: -\n",
        "  - Output Shape: (29, 29, 16)\n",
        "  - Notes: You can skip for now\n",
        "\n",
        "- **Conv2D 3**\n",
        "  - Type: Conv2D\n",
        "  - Filters/Units: 32 filters\n",
        "  - Output Shape: (27, 27, 32)\n",
        "  - Notes: 3×3\n",
        "\n",
        "- **Conv2D 4**\n",
        "  - Type: Conv2D\n",
        "  - Filters/Units: 32 filters\n",
        "  - Output Shape: (25, 25, 32)\n",
        "  - Notes: 3×3\n",
        "\n",
        "- **MaxPool 2**\n",
        "  - Type: Pooling\n",
        "  - Filters/Units: 2×2\n",
        "  - Output Shape: (6, 6, 32)\n",
        "  - Notes: -\n",
        "\n",
        "- **Dropout (skip)**\n",
        "  - Type: (skip)\n",
        "  - Filters/Units: -\n",
        "  - Output Shape: (6, 6, 32)\n",
        "  - Notes: Skip for now\n",
        "\n",
        "- **Flatten**\n",
        "  - Type: -\n",
        "  - Filters/Units: -\n",
        "  - Output Shape: (1152,)\n",
        "  - Notes: 6×6×32\n",
        "\n",
        "- **Dense 1**\n",
        "  - Type: Dense\n",
        "  - Filters/Units: 256 units\n",
        "  - Output Shape: (256,)\n",
        "  - Notes: Fully connected\n",
        "\n",
        "- **Dense 2**\n",
        "  - Type: Dense\n",
        "  - Filters/Units: 1 unit\n",
        "  - Output Shape: (1,)\n",
        "  - Notes: Output: sigmoid\n"
      ],
      "metadata": {
        "id": "XvE_bYRBkLA7"
      }
    }
  ]
}