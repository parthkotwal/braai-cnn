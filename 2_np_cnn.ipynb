{
 "cells": [
  {
   "cell_type": "markdown",
   "metadata": {},
   "source": [
    "### Model Structure\n",
    "| Layer             |\n",
    "| ----------------- |\n",
    "| `Conv2D(16, 3x3)` |\n",
    "| `Conv2D(16, 3x3)` |\n",
    "| `MaxPool2D(2x2)`  |\n",
    "| `Dropout`         |\n",
    "| `Conv2D(32, 3x3)` |\n",
    "| `Conv2D(32, 3x3)` |\n",
    "| `MaxPool2D(4x4)`  |\n",
    "| `Dropout`         |\n",
    "| `Flatten`         |\n",
    "| `Dense(256)`      |\n",
    "| `Dropout`         |\n",
    "| `Dense(1)`        |\n",
    "\n",
    "![BRAAI CNN Model Structure](images/fig-braai.png)"
   ]
  },
  {
   "cell_type": "code",
   "execution_count": 7,
   "metadata": {},
   "outputs": [],
   "source": [
    "# Layer Class (template)\n",
    "class Layer:\n",
    "    def __init__(self):\n",
    "        self.input = None\n",
    "        self.output = None\n",
    "\n",
    "    def forward(self, input):\n",
    "        pass\n",
    "\n",
    "    def backward(self, d_out, learning_rate):\n",
    "        pass"
   ]
  },
  {
   "cell_type": "code",
   "execution_count": 8,
   "metadata": {},
   "outputs": [],
   "source": [
    "import numpy as np\n",
    "from scipy import signal\n",
    "\n",
    "class Conv2D:\n",
    "    def __init__(self, input_shape, kernel_size, output_depth):\n",
    "        self.input_depth, self.input_height, self.input_width = input_shape\n",
    "        self.output_depth = output_depth\n",
    "        self.kernel_size = kernel_size\n",
    "\n",
    "        self.output_height = self.input_height - kernel_size + 1\n",
    "        self.output_width = self.input_width - kernel_size + 1\n",
    "\n",
    "        self.kernels_shape = (output_depth, self.input_depth, kernel_size, kernel_size)\n",
    "        self.kernels = np.random.randn(*self.kernels_shape) * np.sqrt(2.0 / np.prod(self.kernels_shape[1:]))  \n",
    "        self.biases = np.random.randn(output_depth)\n",
    "\n",
    "    def forward(self, input):\n",
    "        self.input = input \n",
    "        self.output = np.zeros((self.output_depth, self.output_height, self.output_width))\n",
    "\n",
    "        for i in range(self.output_depth):\n",
    "            for j in range(self.input_depth):\n",
    "                self.output[i] += signal.correlate2d(self.input[j], self.kernels[i, j], 'valid')\n",
    "            self.output[i] += self.biases[i]  \n",
    "\n",
    "        return self.output\n",
    "\n",
    "    def backward(self, d_out, learning_rate):\n",
    "        kernels_gradient = np.zeros_like(self.kernels)\n",
    "        input_gradient = np.zeros_like(self.input)\n",
    "\n",
    "        for i in range(self.output_depth):\n",
    "            for j in range(self.input_depth):\n",
    "                kernels_gradient[i, j] = signal.correlate2d(self.input[j], d_out[i], 'valid')\n",
    "                input_gradient[j] += signal.convolve2d(d_out[i], self.kernels[i, j], 'full')\n",
    "\n",
    "        self.kernels -= learning_rate * kernels_gradient\n",
    "        self.biases -= learning_rate * d_out.sum(axis=(1, 2))\n",
    "\n",
    "        return input_gradient\n"
   ]
  },
  {
   "cell_type": "code",
   "execution_count": 9,
   "metadata": {},
   "outputs": [],
   "source": [
    "class ReLu(Layer):\n",
    "    def forward(self, input):\n",
    "        self.input = input\n",
    "        return np.maximum(0, input)\n",
    "\n",
    "    def backward(self, d_out, learning_rate):\n",
    "        # Relu prime\n",
    "        return d_out * (self.input > 0)"
   ]
  },
  {
   "cell_type": "code",
   "execution_count": 10,
   "metadata": {},
   "outputs": [],
   "source": [
    "class Flatten(Layer):\n",
    "    def forward(self, x):\n",
    "        self.input_shape = x.shape\n",
    "        return x.reshape(-1)\n",
    "\n",
    "    def backward(self, d_out, learning_rate=None):\n",
    "        return d_out.reshape(self.input_shape)"
   ]
  },
  {
   "cell_type": "code",
   "execution_count": 11,
   "metadata": {},
   "outputs": [],
   "source": [
    "class Dense(Layer):\n",
    "    def __init__(self, input_size, output_size):\n",
    "        self.weights = np.random.randn(output_size, input_size)\n",
    "        self.biases = np.zeros(output_size)\n",
    "\n",
    "    def forward(self, x):\n",
    "        self.input = x\n",
    "        return np.dot(self.weights, x) + self.biases\n",
    "\n",
    "    def backward(self, d_out, learning_rate):\n",
    "        weights_gradient = np.outer(d_out, self.input)\n",
    "        input_gradient = np.dot(self.weights.T, d_out)\n",
    "\n",
    "        self.weights -= learning_rate * weights_gradient\n",
    "        self.biases -= learning_rate * d_out\n",
    "\n",
    "        return input_gradient"
   ]
  }
 ],
 "metadata": {
  "kernelspec": {
   "display_name": "venv",
   "language": "python",
   "name": "python3"
  },
  "language_info": {
   "codemirror_mode": {
    "name": "ipython",
    "version": 3
   },
   "file_extension": ".py",
   "mimetype": "text/x-python",
   "name": "python",
   "nbconvert_exporter": "python",
   "pygments_lexer": "ipython3",
   "version": "3.10.0"
  }
 },
 "nbformat": 4,
 "nbformat_minor": 2
}
