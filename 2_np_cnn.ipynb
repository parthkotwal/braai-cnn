{
 "cells": [
  {
   "cell_type": "markdown",
   "metadata": {},
   "source": [
    "### Model Structure\n",
    "| Layer             |\n",
    "| ----------------- |\n",
    "| `Conv2D(16, 3x3)` |\n",
    "| `Conv2D(16, 3x3)` |\n",
    "| `MaxPool2D(2x2)`  |\n",
    "| `Dropout`         |\n",
    "| `Conv2D(32, 3x3)` |\n",
    "| `Conv2D(32, 3x3)` |\n",
    "| `MaxPool2D(4x4)`  |\n",
    "| `Dropout`         |\n",
    "| `Flatten`         |\n",
    "| `Dense(256)`      |\n",
    "| `Dropout`         |\n",
    "| `Dense(1)`        |\n",
    "\n",
    "![BRAAI CNN Model Structure](images/fig-braai.png)"
   ]
  },
  {
   "cell_type": "code",
   "execution_count": 1,
   "metadata": {},
   "outputs": [],
   "source": [
    "# Layer Class (template)\n",
    "class Layer:\n",
    "    def __init__(self):\n",
    "        self.input = None\n",
    "        self.output = None\n",
    "\n",
    "    def forward(self, input):\n",
    "        pass\n",
    "\n",
    "    def backward(self, output_gradient, learning_rate):\n",
    "        pass"
   ]
  },
  {
   "cell_type": "code",
   "execution_count": null,
   "metadata": {},
   "outputs": [],
   "source": [
    "from scipy import signal\n",
    "import numpy as np\n",
    "\n",
    "class Conv2D(Layer):\n",
    "    def __init__(self, input_shape, kernel_size, output_depth):\n",
    "        input_depth, input_height, input_width = input_shape\n",
    "        self.input_depth = input_depth\n",
    "        self.input_shape = input_shape\n",
    "\n",
    "        self.output_depth = output_depth\n",
    "        self.output_shape = (output_depth, input_height-kernel_size+1, input_width-kernel_size+1)\n",
    "\n",
    "        self.kernels_shape = (output_depth, input_depth, kernel_size, kernel_size)\n",
    "        self.kernels = np.random.randn(self.output_depth)\n",
    "        self.biases = np.random.randn(*self.output_shape)\n",
    "\n",
    "    def forward(self, input):\n",
    "        self.input = input\n",
    "        self.output = np.array(self.biases, copy=True)\n",
    "        for i in range(self.output_depth):\n",
    "            for j in range(self.input_depth):\n",
    "                self.output = self.output + signal.correlate2d(self.input[j], self.kernels[i,j], \"valid\")\n",
    "\n",
    "        return self.output\n",
    "\n",
    "    def backward(self, output_gradient, learning_rate):\n",
    "        kernels_gradient = np.zeros(self.kernels_shape)\n",
    "        input_gradient = np.zeros(self.input_shape)\n",
    "\n",
    "        for i in range(self.output_depth):\n",
    "            for j in range(self.input_depth):\n",
    "                kernels_gradient[i,j] = signal.correlate2d(self.input[j], output_gradient[i], \"valid\")\n",
    "                input_gradient[j] += signal.convolve2d(output_gradient[i], self.kernels[i,j], \"full\")\n",
    "\n",
    "        self.kernels -= learning_rate * kernels_gradient\n",
    "        self.biases -= learning_rate * output_gradient.sum(axis=(1,2))\n",
    "        return input_gradient"
   ]
  },
  {
   "cell_type": "code",
   "execution_count": null,
   "metadata": {},
   "outputs": [],
   "source": []
  }
 ],
 "metadata": {
  "kernelspec": {
   "display_name": "venv",
   "language": "python",
   "name": "python3"
  },
  "language_info": {
   "codemirror_mode": {
    "name": "ipython",
    "version": 3
   },
   "file_extension": ".py",
   "mimetype": "text/x-python",
   "name": "python",
   "nbconvert_exporter": "python",
   "pygments_lexer": "ipython3",
   "version": "3.10.0"
  }
 },
 "nbformat": 4,
 "nbformat_minor": 2
}
